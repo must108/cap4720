{
 "cells": [
  {
   "cell_type": "markdown",
   "id": "272bd6fb",
   "metadata": {},
   "source": [
    "# Class Practice Session 1"
   ]
  },
  {
   "cell_type": "code",
   "execution_count": 12,
   "id": "baa287b2",
   "metadata": {},
   "outputs": [],
   "source": [
    "import pygame\n",
    "import moderngl\n",
    "import numpy as np"
   ]
  },
  {
   "cell_type": "code",
   "execution_count": 13,
   "id": "8b3793b5",
   "metadata": {},
   "outputs": [
    {
     "data": {
      "text/plain": [
       "(5, 0)"
      ]
     },
     "execution_count": 13,
     "metadata": {},
     "output_type": "execute_result"
    }
   ],
   "source": [
    "pygame.init() # initialize pygame"
   ]
  },
  {
   "cell_type": "code",
   "execution_count": 14,
   "id": "e3a46ccd",
   "metadata": {},
   "outputs": [
    {
     "ename": "ValueError",
     "evalue": "Requested OpenGL version 330, got version 0",
     "output_type": "error",
     "traceback": [
      "\u001b[0;31m---------------------------------------------------------------------------\u001b[0m",
      "\u001b[0;31mValueError\u001b[0m                                Traceback (most recent call last)",
      "Cell \u001b[0;32mIn[14], line 6\u001b[0m\n\u001b[1;32m      4\u001b[0m pygame\u001b[38;5;241m.\u001b[39mdisplay\u001b[38;5;241m.\u001b[39mset_mode((width, height), flags\u001b[38;5;241m=\u001b[39mpygame\u001b[38;5;241m.\u001b[39mOPENGL \u001b[38;5;241m|\u001b[39m pygame\u001b[38;5;241m.\u001b[39mDOUBLEBUF)\n\u001b[1;32m      5\u001b[0m pygame\u001b[38;5;241m.\u001b[39mdisplay\u001b[38;5;241m.\u001b[39mset_caption(title \u001b[38;5;241m=\u001b[39m \u001b[38;5;124m\"\u001b[39m\u001b[38;5;124mClass Practice 1\u001b[39m\u001b[38;5;124m\"\u001b[39m)\n\u001b[0;32m----> 6\u001b[0m gl \u001b[38;5;241m=\u001b[39m moderngl\u001b[38;5;241m.\u001b[39mcreate_context()\n",
      "File \u001b[0;32m/opt/anaconda3/lib/python3.13/site-packages/moderngl/__init__.py:2262\u001b[0m, in \u001b[0;36mcreate_context\u001b[0;34m(require, standalone, share, **settings)\u001b[0m\n\u001b[1;32m   2259\u001b[0m ctx\u001b[38;5;241m.\u001b[39m_objects \u001b[38;5;241m=\u001b[39m deque()\n\u001b[1;32m   2261\u001b[0m \u001b[38;5;28;01mif\u001b[39;00m ctx\u001b[38;5;241m.\u001b[39mversion_code \u001b[38;5;241m<\u001b[39m require:\n\u001b[0;32m-> 2262\u001b[0m     \u001b[38;5;28;01mraise\u001b[39;00m \u001b[38;5;167;01mValueError\u001b[39;00m(\u001b[38;5;124m\"\u001b[39m\u001b[38;5;124mRequested OpenGL version \u001b[39m\u001b[38;5;132;01m{0}\u001b[39;00m\u001b[38;5;124m, got version \u001b[39m\u001b[38;5;132;01m{1}\u001b[39;00m\u001b[38;5;124m\"\u001b[39m\u001b[38;5;241m.\u001b[39mformat(require, ctx\u001b[38;5;241m.\u001b[39mversion_code))\n\u001b[1;32m   2264\u001b[0m \u001b[38;5;28;01mif\u001b[39;00m standalone:\n\u001b[1;32m   2265\u001b[0m     ctx\u001b[38;5;241m.\u001b[39m_screen \u001b[38;5;241m=\u001b[39m \u001b[38;5;28;01mNone\u001b[39;00m\n",
      "\u001b[0;31mValueError\u001b[0m: Requested OpenGL version 330, got version 0"
     ]
    }
   ],
   "source": [
    "width = 600\n",
    "height = 600\n",
    "\n",
    "pygame.display.set_mode((width, height), flags=pygame.OPENGL | pygame.DOUBLEBUF)\n",
    "pygame.display.set_caption(title = \"Class Practice 1\")\n",
    "gl = moderngl.create_context() # get created context"
   ]
  },
  {
   "cell_type": "code",
   "execution_count": null,
   "id": "1a87138d",
   "metadata": {},
   "outputs": [],
   "source": [
    "gl.info[\"GL_VERSION\"]"
   ]
  }
 ],
 "metadata": {
  "kernelspec": {
   "display_name": "base",
   "language": "python",
   "name": "python3"
  },
  "language_info": {
   "codemirror_mode": {
    "name": "ipython",
    "version": 3
   },
   "file_extension": ".py",
   "mimetype": "text/x-python",
   "name": "python",
   "nbconvert_exporter": "python",
   "pygments_lexer": "ipython3",
   "version": "3.13.5"
  }
 },
 "nbformat": 4,
 "nbformat_minor": 5
}
