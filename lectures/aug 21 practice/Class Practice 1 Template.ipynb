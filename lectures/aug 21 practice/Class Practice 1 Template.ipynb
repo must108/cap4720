{
 "cells": [
  {
   "cell_type": "markdown",
   "id": "9ae702dd-1048-4ec2-ae45-57cf28deb652",
   "metadata": {},
   "source": [
    "# Class Practice Session 1"
   ]
  },
  {
   "cell_type": "code",
   "execution_count": 1,
   "id": "5892790a-0935-469e-b334-e7293da0178d",
   "metadata": {},
   "outputs": [
    {
     "name": "stdout",
     "output_type": "stream",
     "text": [
      "pygame 2.6.1 (SDL 2.28.4, Python 3.13.5)\n",
      "Hello from the pygame community. https://www.pygame.org/contribute.html\n"
     ]
    }
   ],
   "source": [
    "import pygame\n",
    "import moderngl\n",
    "import numpy"
   ]
  },
  {
   "cell_type": "markdown",
   "id": "4515fc58-159c-4904-8f70-7f4aa819183c",
   "metadata": {},
   "source": [
    "### Initialize pygame "
   ]
  },
  {
   "cell_type": "code",
   "execution_count": 2,
   "id": "2402b190-c94a-4c4f-bc93-946233c2c5fd",
   "metadata": {},
   "outputs": [
    {
     "data": {
      "text/plain": [
       "(5, 0)"
      ]
     },
     "execution_count": 2,
     "metadata": {},
     "output_type": "execute_result"
    }
   ],
   "source": [
    "pygame.init() # Initlizes its different modules. Display module is one of them."
   ]
  },
  {
   "cell_type": "markdown",
   "id": "cc5d0ec3-3c7f-4e4a-87e9-c1486f5df1f7",
   "metadata": {},
   "source": [
    "### pygame.display.set_mode(...): Create a 600 x 600 window with OpenGL context. \n",
    "The flag pygame.OPENGL sets the display to be OpenGL renderable display.\n",
    "Flag pygame.RESIZABLE makes the window sizeable.\n",
    "Flag pygame.DOUBLEBUF is associated with OpenGL so that drawing takes place in the back buffer and shows only when flipped."
   ]
  },
  {
   "cell_type": "code",
   "execution_count": 3,
   "id": "ca68833e-4992-4620-be3b-c51c1da1557b",
   "metadata": {},
   "outputs": [],
   "source": [
    "width = 600\n",
    "height = 600\n",
    "#pygame.display.gl_set_attribute(pygame.GL_CONTEXT_MAJOR_VERSION,4)\n",
    "#pygame.display.gl_set_attribute(pygame.GL_CONTEXT_MINOR_VERSION,3)\n",
    "pygame.display.set_mode((width, height), flags= pygame.OPENGL | pygame.DOUBLEBUF)\n",
    "pygame.display.set_caption(title = \"Class Practice 1\")\n",
    "gl = moderngl.get_context() # Get Previously created context."
   ]
  },
  {
   "cell_type": "code",
   "execution_count": 4,
   "id": "21df7a78-c0b0-4643-a402-dd3a45300bfe",
   "metadata": {},
   "outputs": [
    {
     "data": {
      "text/plain": [
       "'2.1 Metal - 89.4'"
      ]
     },
     "execution_count": 4,
     "metadata": {},
     "output_type": "execute_result"
    }
   ],
   "source": [
    "gl.info[\"GL_VERSION\"]"
   ]
  },
  {
   "cell_type": "markdown",
   "id": "d1a1a5b3-9289-44d9-bf2a-81cb0efc00b3",
   "metadata": {},
   "source": [
    "### Get the geometry data into a float array."
   ]
  },
  {
   "cell_type": "code",
   "execution_count": 5,
   "id": "9b0ed1eb-79bc-4c09-9909-87c2800cc014",
   "metadata": {},
   "outputs": [],
   "source": [
    "position_data = [\n",
    "        0.0, 0.8,\n",
    "        -0.8, -0.8,\n",
    "        0.8, -0.8\n",
    "    ]\n",
    "triangle_vertex_positions = numpy.array(position_data).astype(\"float32\")"
   ]
  },
  {
   "cell_type": "markdown",
   "id": "45f9085b-5abc-4026-a39d-5287a89763e9",
   "metadata": {},
   "source": [
    "### Push the Geometry Data to the GPU buffer.\n",
    "See https://moderngl.readthedocs.io/en/latest/reference/buffer.html\n",
    "\n",
    "ctx.buffer(--- Array of vertex data ---)"
   ]
  },
  {
   "cell_type": "code",
   "execution_count": 6,
   "id": "73404868-aa57-479a-920d-b8b417c2c6e3",
   "metadata": {},
   "outputs": [],
   "source": [
    "triangle_positions_buffer = ... # Create a Vertex buffer object from the data"
   ]
  },
  {
   "cell_type": "markdown",
   "id": "a8985921-e121-4787-af2e-2d015e11c6fa",
   "metadata": {},
   "source": [
    "### Write shader code and create a shader program to render geometry data available in the buffer.\n",
    "shaders are programs written in GLSL.\n",
    "GLSL shares a C-like syntax. It may be considered as an extended C. It includes additional data types and qualifiers.\n",
    "\n",
    "Example:\n",
    "- $vec4$ is a vector of 4 floats\n",
    "- $in$ keyword is a storage qualifier used to declare variables that receive input data from buffers into the vertex shader program.\n",
    "- $out$ keyword is an output qualifier used to represent data that will be passed to the next stage in the OpenGL rendering pipeline.\n",
    "- $layout (location = nn) in$ is a location qualifier that explicitly assigns an input attribute to a specific location nn to a variable within a shader.\n",
    "\n",
    "It get input vertex attribute data from a GPU buffer.\n"
   ]
  },
  {
   "cell_type": "markdown",
   "id": "1c90d113-6362-424c-9588-5072b3acb168",
   "metadata": {},
   "source": [
    "#### Vertex Shader\n",
    "The Vertex shader must set the value of a predefined vec4 variable gl_Position."
   ]
  },
  {
   "cell_type": "code",
   "execution_count": 7,
   "id": "9ce9824b-596f-4cae-a9b2-310f69007f15",
   "metadata": {},
   "outputs": [],
   "source": [
    "vertex_shader_code = '''\n",
    "#version 330 core\n",
    "\n",
    "// add attributes variables here\n",
    "\n",
    "void main() {\n",
    "    ...\n",
    "}\n",
    "'''"
   ]
  },
  {
   "cell_type": "markdown",
   "id": "545e617b-8585-45a6-bee3-29d6371e5c71",
   "metadata": {},
   "source": [
    "#### Fragment Shader\n",
    "For rendering fragment shader must output something (minimally a vec4 value) to the framebuffer "
   ]
  },
  {
   "cell_type": "code",
   "execution_count": 8,
   "id": "e16a97ac-76c8-4312-bb6a-e9a453fa6e9d",
   "metadata": {},
   "outputs": [],
   "source": [
    "fragment_shader_code = '''\n",
    "#version 330 core\n",
    "\n",
    "// Add output variable here\n",
    "\n",
    "void main() {\n",
    "    //set output variable value here\n",
    "}\n",
    "'''"
   ]
  },
  {
   "cell_type": "code",
   "execution_count": 9,
   "id": "8d36e33c-2b1e-4d05-a8a8-60aff0a0c110",
   "metadata": {},
   "outputs": [
    {
     "ename": "Error",
     "evalue": "wrong shader source type",
     "output_type": "error",
     "traceback": [
      "\u001b[0;31m---------------------------------------------------------------------------\u001b[0m",
      "\u001b[0;31mError\u001b[0m                                     Traceback (most recent call last)",
      "Cell \u001b[0;32mIn[9], line 1\u001b[0m\n\u001b[0;32m----> 1\u001b[0m program \u001b[38;5;241m=\u001b[39m gl\u001b[38;5;241m.\u001b[39mprogram(\n\u001b[1;32m      2\u001b[0m     vertex_shader\u001b[38;5;241m=\u001b[39m \u001b[38;5;241m.\u001b[39m\u001b[38;5;241m.\u001b[39m\u001b[38;5;241m.\u001b[39m,\n\u001b[1;32m      3\u001b[0m     fragment_shader\u001b[38;5;241m=\u001b[39m\u001b[38;5;241m.\u001b[39m\u001b[38;5;241m.\u001b[39m\u001b[38;5;241m.\u001b[39m\n\u001b[1;32m      4\u001b[0m )\n",
      "File \u001b[0;32m/opt/anaconda3/lib/python3.13/site-packages/moderngl/__init__.py:1978\u001b[0m, in \u001b[0;36mContext.program\u001b[0;34m(self, vertex_shader, fragment_shader, geometry_shader, tess_control_shader, tess_evaluation_shader, varyings, fragment_outputs, attributes, varyings_capture_mode)\u001b[0m\n\u001b[1;32m   1975\u001b[0m     fragment_shader \u001b[38;5;241m=\u001b[39m fragment_shader\u001b[38;5;241m.\u001b[39mstrip()\n\u001b[1;32m   1977\u001b[0m res \u001b[38;5;241m=\u001b[39m Program\u001b[38;5;241m.\u001b[39m\u001b[38;5;21m__new__\u001b[39m(Program)\n\u001b[0;32m-> 1978\u001b[0m res\u001b[38;5;241m.\u001b[39mmglo, _members, res\u001b[38;5;241m.\u001b[39m_subroutines, res\u001b[38;5;241m.\u001b[39m_geom, res\u001b[38;5;241m.\u001b[39m_glo \u001b[38;5;241m=\u001b[39m \u001b[38;5;28mself\u001b[39m\u001b[38;5;241m.\u001b[39mmglo\u001b[38;5;241m.\u001b[39mprogram(\n\u001b[1;32m   1979\u001b[0m     vertex_shader,\n\u001b[1;32m   1980\u001b[0m     fragment_shader,\n\u001b[1;32m   1981\u001b[0m     geometry_shader,\n\u001b[1;32m   1982\u001b[0m     tess_control_shader,\n\u001b[1;32m   1983\u001b[0m     tess_evaluation_shader,\n\u001b[1;32m   1984\u001b[0m     \u001b[38;5;28;01mNone\u001b[39;00m,\n\u001b[1;32m   1985\u001b[0m     varyings,\n\u001b[1;32m   1986\u001b[0m     fragment_outputs,\n\u001b[1;32m   1987\u001b[0m     varyings_capture_mode \u001b[38;5;241m==\u001b[39m \u001b[38;5;124m\"\u001b[39m\u001b[38;5;124minterleaved\u001b[39m\u001b[38;5;124m\"\u001b[39m,\n\u001b[1;32m   1988\u001b[0m )\n\u001b[1;32m   1989\u001b[0m res\u001b[38;5;241m.\u001b[39m_members, res\u001b[38;5;241m.\u001b[39m_attribute_locations, res\u001b[38;5;241m.\u001b[39m_attribute_types \u001b[38;5;241m=\u001b[39m _members\n\u001b[1;32m   1991\u001b[0m \u001b[38;5;28;01mif\u001b[39;00m \u001b[38;5;28misinstance\u001b[39m(vertex_shader, \u001b[38;5;28mbytes\u001b[39m) \u001b[38;5;129;01mand\u001b[39;00m \u001b[38;5;28mint\u001b[39m\u001b[38;5;241m.\u001b[39mfrom_bytes(vertex_shader[:\u001b[38;5;241m4\u001b[39m], \u001b[38;5;124m\"\u001b[39m\u001b[38;5;124mlittle\u001b[39m\u001b[38;5;124m\"\u001b[39m) \u001b[38;5;241m==\u001b[39m \u001b[38;5;241m0x07230203\u001b[39m:\n",
      "\u001b[0;31mError\u001b[0m: wrong shader source type"
     ]
    }
   ],
   "source": [
    "program = gl.program(\n",
    "    vertex_shader= ...,\n",
    "    fragment_shader=...\n",
    ")"
   ]
  },
  {
   "cell_type": "markdown",
   "id": "eb55f926-f41e-490d-98a4-91b9d03f2e6d",
   "metadata": {},
   "source": [
    "#### Create connection between the data in buffer object and vertex attribute in vertex program \n",
    "Connection is created by function ctx.vertex_array(program: Program, content: list).  \n",
    "- $list# is a python list of (buffer, format, attribute name(s))\n",
    "\n",
    "See https://moderngl.readthedocs.io/en/latest/reference/vertex_array.html "
   ]
  },
  {
   "cell_type": "code",
   "execution_count": null,
   "id": "edf00f3c-45cc-41c4-bb66-74a9ddd052b9",
   "metadata": {},
   "outputs": [],
   "source": [
    "renderable = gl.vertex_array(\n",
    "    [ ( ... ) ]\n",
    ")"
   ]
  },
  {
   "cell_type": "code",
   "execution_count": null,
   "id": "63ba44fa-9c1a-4eac-b2ed-20018c3dea34",
   "metadata": {},
   "outputs": [],
   "source": [
    "running = True\n",
    "clock = pygame.time.Clock()\n",
    "while running:   \n",
    "    # poll for events\n",
    "    # pygame.QUIT event means the user clicked X to close your window\n",
    "    # event.key == 27 means Escape key is pressed.\n",
    "    for event in pygame.event.get():\n",
    "        if event.type == pygame.QUIT or (event.type == pygame.KEYDOWN and event.key == 27):\n",
    "            running = False\n",
    "\n",
    "    ### Add render code below\n",
    "    # Clear the display window with the specified R, G, B values using function ctx.clear(R, G, B)\n",
    "\n",
    "    # Make one or more Render Calls to instruct the GPU to render by executing the shader program with the provided data.\n",
    "    \n",
    "    pygame.display.flip()\n",
    "    clock.tick(10)  # limits FPS to 10\n",
    "\n",
    "pygame.quit()"
   ]
  }
 ],
 "metadata": {
  "kernelspec": {
   "display_name": "base",
   "language": "python",
   "name": "python3"
  },
  "language_info": {
   "codemirror_mode": {
    "name": "ipython",
    "version": 3
   },
   "file_extension": ".py",
   "mimetype": "text/x-python",
   "name": "python",
   "nbconvert_exporter": "python",
   "pygments_lexer": "ipython3",
   "version": "3.13.5"
  }
 },
 "nbformat": 4,
 "nbformat_minor": 5
}
