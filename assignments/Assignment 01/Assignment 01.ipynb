{
 "cells": [
  {
   "cell_type": "markdown",
   "id": "47d1833a",
   "metadata": {},
   "source": [
    "# Assignment 01: Mustaeen Ahmed"
   ]
  },
  {
   "cell_type": "code",
   "execution_count": 1,
   "id": "f14cad5b",
   "metadata": {},
   "outputs": [
    {
     "name": "stdout",
     "output_type": "stream",
     "text": [
      "pygame 2.5.2 (SDL 2.28.3, Python 3.12.1)\n",
      "Hello from the pygame community. https://www.pygame.org/contribute.html\n"
     ]
    }
   ],
   "source": [
    "import pygame"
   ]
  },
  {
   "cell_type": "code",
   "execution_count": null,
   "id": "b05f5885",
   "metadata": {},
   "outputs": [
    {
     "ename": "",
     "evalue": "",
     "output_type": "error",
     "traceback": [
      "\u001b[1;31mThe Kernel crashed while executing code in the current cell or a previous cell. \n",
      "\u001b[1;31mPlease review the code in the cell(s) to identify a possible cause of the failure. \n",
      "\u001b[1;31mClick <a href='https://aka.ms/vscodeJupyterKernelCrash'>here</a> for more info. \n",
      "\u001b[1;31mView Jupyter <a href='command:jupyter.viewOutput'>log</a> for further details."
     ]
    }
   ],
   "source": [
    "pygame.init()\n",
    "clock = pygame.time.Clock()\n",
    "\n",
    "color1, color2, color3 = 123, 175, 212\n",
    "\n",
    "display = pygame.display.set_mode((800, 600))\n",
    "pygame.display.set_caption(title = \"Assignment 1: Mustaeen Ahmed\")\n",
    "running = True\n",
    "\n",
    "while running:\n",
    "    for event in pygame.event.get():\n",
    "        if event.type == pygame.QUIT or (event.type == pygame.KEYDOWN and event.key == 27):\n",
    "            running = False\n",
    "    display.fill((color1, color2, color3))\n",
    "\n",
    "    # having some fun here with changing colors\n",
    "    color1 += 1\n",
    "    if color1 > 255: color1 = 0\n",
    "\n",
    "    color2 += 1\n",
    "    if color2 > 255: color2 = 0\n",
    "\n",
    "    color3 += 1\n",
    "    if color3 > 255: color3 = 0\n",
    "\n",
    "    pygame.display.flip()\n",
    "    clock.tick(30)\n",
    "pygame.quit()"
   ]
  }
 ],
 "metadata": {
  "kernelspec": {
   "display_name": "Python 3",
   "language": "python",
   "name": "python3"
  },
  "language_info": {
   "codemirror_mode": {
    "name": "ipython",
    "version": 3
   },
   "file_extension": ".py",
   "mimetype": "text/x-python",
   "name": "python",
   "nbconvert_exporter": "python",
   "pygments_lexer": "ipython3",
   "version": "3.12.1"
  }
 },
 "nbformat": 4,
 "nbformat_minor": 5
}
