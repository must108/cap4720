{
 "cells": [
  {
   "cell_type": "markdown",
   "id": "f9ee357c",
   "metadata": {},
   "source": [
    "# Assignment 04: Mustaeen Ahmed"
   ]
  },
  {
   "cell_type": "code",
   "execution_count": null,
   "id": "e70415b1",
   "metadata": {},
   "outputs": [],
   "source": [
    "import pygame\n",
    "import moderngl\n",
    "import numpy\n",
    "from math import cos, sin, radians"
   ]
  },
  {
   "cell_type": "code",
   "execution_count": null,
   "id": "b14ca91d",
   "metadata": {},
   "outputs": [],
   "source": [
    "pygame.init()\n",
    "screen_info = pygame.display.Info()\n",
    "\n",
    "WIDTH = screen_info.current_w\n",
    "HEIGHT = screen_info.current_h\n",
    "\n",
    "clock = pygame.time.Clock()\n",
    "running = True\n",
    "\n",
    "pygame.display.gl_set_attribute(pygame.GL_CONTEXT_MAJOR_VERSION, 3)\n",
    "pygame.display.gl_set_attribute(pygame.GL_CONTEXT_MINOR_VERSION, 3)\n",
    "pygame.display.gl_set_attribute(pygame.GL_CONTEXT_PROFILE_MASK, pygame.GL_CONTEXT_PROFILE_CORE)\n",
    "pygame.display.gl_set_attribute(pygame.GL_CONTEXT_FORWARD_COMPATIBLE_FLAG, True)"
   ]
  },
  {
   "cell_type": "code",
   "execution_count": null,
   "id": "8e905c49",
   "metadata": {},
   "outputs": [],
   "source": [
    "pygame.display.set_mode((WIDTH, HEIGHT), flags=pygame.OPENGL | pygame.DOUBLEBUF | pygame.RESIZABLE)\n",
    "pygame.display.set_caption(title=\"Assignment 04: Mustaeen Ahmed\")\n",
    "gl = moderngl.get_context()"
   ]
  },
  {
   "cell_type": "code",
   "execution_count": null,
   "id": "d7d5fd02",
   "metadata": {},
   "outputs": [],
   "source": [
    "position_data = [\n",
    "    0.0, 0.8,\n",
    "    0.8, 0.0,\n",
    "    -0.8, 0.0,\n",
    "\n",
    "    0.0, -0.8,\n",
    "    0.8, 0.0,\n",
    "    -0.8, 0.0\n",
    "]\n",
    "\n",
    "triangle_vertex_positions = numpy.array(position_data).astype(\"float32\")\n",
    "triangle_position_buffer = gl.buffer(triangle_vertex_positions)"
   ]
  },
  {
   "cell_type": "code",
   "execution_count": null,
   "id": "2c55d949",
   "metadata": {},
   "outputs": [],
   "source": [
    "fragment_shader_code = '''\n",
    "    #version 330 core\n",
    "    \n",
    "    out vec4 color;\n",
    "    uniform vec3 inColor;\n",
    "\n",
    "    void main() {\n",
    "        color = vec4(inColor, 0);\n",
    "    }\n",
    "'''\n",
    "\n",
    "vertex_shader_code = '''\n",
    "    #version 330 core\n",
    "\n",
    "    layout (location = 0) in vec2 position;\n",
    "    uniform float scale;\n",
    "    uniform float distance;\n",
    "    uniform mat2 M;\n",
    "\n",
    "    void main() {\n",
    "        vec2 d_vector = distance * vec2(1, 0);\n",
    "        vec2 P = position * scale + d_vector;\n",
    "        gl_Position = vec4(M * P, 0.0, 1.0);\n",
    "    }\n",
    "'''\n",
    "\n",
    "vertex_shader_code_line = '''\n",
    "    #version 330 core\n",
    "\n",
    "    uniform float distance;\n",
    "    uniform mat2 M;\n",
    "    \n",
    "    void main() {\n",
    "        vec2 position = vec2(0);\n",
    "        if (gl_VertexID > 0) {\n",
    "            vec2 d_vector = distance * vec2(1, 0);\n",
    "            position += d_vector;\n",
    "        }\n",
    "        gl_Position = vec4(M * position, 0.0, 1.0);\n",
    "    }\n",
    "'''"
   ]
  },
  {
   "cell_type": "code",
   "execution_count": null,
   "id": "cc42e4f6",
   "metadata": {},
   "outputs": [],
   "source": [
    "program = gl.program(\n",
    "    vertex_shader = vertex_shader_code,\n",
    "    fragment_shader = fragment_shader_code\n",
    ")\n",
    "\n",
    "program_line = gl.program(\n",
    "    vertex_shader = vertex_shader_code_line,\n",
    "    fragment_shader= fragment_shader_code\n",
    ")\n",
    "\n",
    "renderable = gl.vertex_array(program,\n",
    "    [( triangle_position_buffer, \"2f\", \"position\" )])\n",
    "\n",
    "line_renderable = gl.vertex_array(program_line, [])"
   ]
  },
  {
   "cell_type": "code",
   "execution_count": null,
   "id": "a5c50e55",
   "metadata": {},
   "outputs": [],
   "source": [
    "angle = 270\n",
    "\n",
    "while running:\n",
    "    for event in pygame.event.get():\n",
    "        if event.type == pygame.QUIT or (event.type == pygame.KEYDOWN and event.key == 27):\n",
    "            running = False\n",
    "        elif event.type == pygame.VIDEORESIZE:\n",
    "            WIDTH, HEIGHT = event.size\n",
    "            aspect_ratio = WIDTH / HEIGHT\n",
    "\n",
    "    gl.clear(0.5, 0.5, 0)\n",
    "\n",
    "    aspect_ratio = WIDTH / HEIGHT\n",
    "    angle_r = radians(-angle)\n",
    "\n",
    "    M = numpy.array([\n",
    "        [cos(angle_r) / aspect_ratio, -sin(angle_r) / aspect_ratio],\n",
    "        [sin(angle_r), cos(angle_r)]\n",
    "    ], dtype='f4')\n",
    "\n",
    "    program['M'].write(M.T.tobytes())\n",
    "    program_line['M'].write(M.T.tobytes())\n",
    "\n",
    "    program['scale'] = 0.1\n",
    "    program['distance'] = 0\n",
    "    program['inColor'] = [1, 1, 0]\n",
    "\n",
    "    renderable.render(moderngl.TRIANGLES, vertices=6)\n",
    "\n",
    "    program['distance'] = 0.8\n",
    "    renderable.render(moderngl.TRIANGLES, vertices=6)\n",
    "\n",
    "    program_line['distance'] = 0.8\n",
    "    line_renderable.render(moderngl.LINES, vertices=2)\n",
    "\n",
    "    pygame.display.flip()\n",
    "    clock.tick(60)\n",
    "    angle = angle + 0.1\n",
    "    if angle > 360:\n",
    "        angle = 0\n",
    "\n",
    "pygame.quit()"
   ]
  }
 ],
 "metadata": {
  "kernelspec": {
   "display_name": "base",
   "language": "python",
   "name": "python3"
  },
  "language_info": {
   "codemirror_mode": {
    "name": "ipython",
    "version": 3
   },
   "file_extension": ".py",
   "mimetype": "text/x-python",
   "name": "python",
   "nbconvert_exporter": "python",
   "pygments_lexer": "ipython3",
   "version": "3.13.5"
  }
 },
 "nbformat": 4,
 "nbformat_minor": 5
}
