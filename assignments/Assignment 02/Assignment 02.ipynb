{
 "cells": [
  {
   "cell_type": "markdown",
   "id": "4128cbc3",
   "metadata": {},
   "source": [
    "# Assignment 02: Mustaeen Ahmed"
   ]
  },
  {
   "cell_type": "code",
   "execution_count": null,
   "id": "f7bd7953",
   "metadata": {},
   "outputs": [],
   "source": [
    "import pygame\n",
    "import moderngl\n",
    "import numpy as np"
   ]
  },
  {
   "cell_type": "code",
   "execution_count": null,
   "id": "f943702e",
   "metadata": {},
   "outputs": [],
   "source": [
    "# glsl code\n",
    "fragment_shader_code = \"\"\"\n",
    "    #version 330 core\n",
    "\n",
    "    out vec4 color;\n",
    "\n",
    "    void main() {\n",
    "        color = vec4(1, 1, 0, 0);\n",
    "    }\n",
    "\"\"\"\n",
    "\n",
    "vertex_shader_code = \"\"\"\n",
    "    #version 330 core\n",
    "\n",
    "    layout (location = 0) in vec2 position;\n",
    "\n",
    "    void main() {\n",
    "        gl_Position = vec4(position, 0.0, 1.0);\n",
    "    }\n",
    "\"\"\""
   ]
  },
  {
   "cell_type": "code",
   "execution_count": null,
   "id": "0696be2c",
   "metadata": {},
   "outputs": [],
   "source": [
    "pygame.init()\n",
    "clock = pygame.time.Clock()\n",
    "running = True\n",
    "\n",
    "WIDTH = 600\n",
    "HEIGHT = 600\n",
    "\n",
    "pygame.display.gl_set_attribute(pygame.GL_CONTEXT_MAJOR_VERSION, 3)\n",
    "pygame.display.gl_set_attribute(pygame.GL_CONTEXT_MINOR_VERSION, 3)\n",
    "pygame.display.gl_set_attribute(pygame.GL_CONTEXT_PROFILE_MASK, pygame.GL_CONTEXT_PROFILE_CORE)\n",
    "pygame.display.gl_set_attribute(pygame.GL_CONTEXT_FORWARD_COMPATIBLE_FLAG, True)\n"
   ]
  },
  {
   "cell_type": "code",
   "execution_count": null,
   "id": "963674d4",
   "metadata": {},
   "outputs": [],
   "source": [
    "pygame.display.set_mode((WIDTH, HEIGHT), flags=pygame.OPENGL | pygame.DOUBLEBUF)\n",
    "pygame.display.set_caption(title=\"Assignment 02: Mustaeen Ahmed\")\n",
    "gl = moderngl.get_context()"
   ]
  },
  {
   "cell_type": "code",
   "execution_count": null,
   "id": "ddc70f09",
   "metadata": {},
   "outputs": [],
   "source": [
    "position_data = [\n",
    "    0.0, 0.8,\n",
    "    -0.8, 0.0,\n",
    "    0.8, 0.0,\n",
    "\n",
    "    0.0, -0.8,\n",
    "    -0.8, 0.0,\n",
    "    0.8, 0.0\n",
    "]\n",
    "\n",
    "triangle_vertex_positions = np.array(position_data).astype(\"float32\")\n",
    "triangle_positions_buffer =  gl.buffer(triangle_vertex_positions.tobytes())\n",
    "\n",
    "program = gl.program(\n",
    "    vertex_shader=vertex_shader_code,\n",
    "    fragment_shader=fragment_shader_code,\n",
    ")\n",
    "\n",
    "renderable = gl.vertex_array(\n",
    "    program,\n",
    "    [ (triangle_positions_buffer, \"2f\", \"position\") ]\n",
    ")\n",
    "\n",
    "while running:\n",
    "    for event in pygame.event.get():\n",
    "        if event.type == pygame.QUIT or (event.type == pygame.KEYDOWN and event.key == 27):\n",
    "            running = False\n",
    "\n",
    "    gl.clear(0.502, 0.502, 0)\n",
    "\n",
    "    renderable.render()\n",
    "\n",
    "    pygame.display.flip()\n",
    "    clock.tick(10)\n",
    "\n",
    "pygame.quit()"
   ]
  }
 ],
 "metadata": {
  "kernelspec": {
   "display_name": "base",
   "language": "python",
   "name": "python3"
  },
  "language_info": {
   "codemirror_mode": {
    "name": "ipython",
    "version": 3
   },
   "file_extension": ".py",
   "mimetype": "text/x-python",
   "name": "python",
   "nbconvert_exporter": "python",
   "pygments_lexer": "ipython3",
   "version": "3.13.5"
  }
 },
 "nbformat": 4,
 "nbformat_minor": 5
}
