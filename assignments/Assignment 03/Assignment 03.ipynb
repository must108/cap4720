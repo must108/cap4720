{
 "cells": [
  {
   "cell_type": "markdown",
   "id": "8d2ca263",
   "metadata": {},
   "source": [
    "# Assignment 03: Mustaeen Ahmed"
   ]
  },
  {
   "cell_type": "code",
   "execution_count": 1,
   "id": "e14fa7bb",
   "metadata": {},
   "outputs": [
    {
     "name": "stdout",
     "output_type": "stream",
     "text": [
      "pygame 2.6.1 (SDL 2.28.4, Python 3.13.5)\n",
      "Hello from the pygame community. https://www.pygame.org/contribute.html\n"
     ]
    }
   ],
   "source": [
    "import pygame\n",
    "import moderngl\n",
    "import numpy"
   ]
  },
  {
   "cell_type": "code",
   "execution_count": 2,
   "id": "478f0f44",
   "metadata": {},
   "outputs": [],
   "source": [
    "WIDTH = 600\n",
    "HEIGHT = 600\n",
    "pygame.init()\n",
    "clock = pygame.time.Clock()\n",
    "running = True\n",
    "\n",
    "pygame.display.gl_set_attribute(pygame.GL_CONTEXT_MAJOR_VERSION, 3)\n",
    "pygame.display.gl_set_attribute(pygame.GL_CONTEXT_MINOR_VERSION, 3)\n",
    "pygame.display.gl_set_attribute(pygame.GL_CONTEXT_PROFILE_MASK, pygame.GL_CONTEXT_PROFILE_CORE)\n",
    "pygame.display.gl_set_attribute(pygame.GL_CONTEXT_FORWARD_COMPATIBLE_FLAG, True)"
   ]
  },
  {
   "cell_type": "code",
   "execution_count": 3,
   "id": "76e2d8c8",
   "metadata": {},
   "outputs": [],
   "source": [
    "pygame.display.set_mode((HEIGHT, WIDTH), flags=pygame.OPENGL | pygame.DOUBLEBUF)\n",
    "pygame.display.set_caption(title=\"Assignment 03: Mustaeen Ahmed\")\n",
    "gl = moderngl.get_context()"
   ]
  },
  {
   "cell_type": "code",
   "execution_count": 4,
   "id": "54887e00",
   "metadata": {},
   "outputs": [],
   "source": [
    "position_data = [\n",
    "    0.0, 0.8,\n",
    "    0.8, 0.0,\n",
    "    -0.8, 0.0,\n",
    "\n",
    "    0.0, -0.8,\n",
    "    0.8, 0.0,\n",
    "    -0.8, 0.0\n",
    "]\n",
    "\n",
    "triangle_vertex_positions = numpy.array(position_data).astype(\"float32\")\n",
    "triangle_position_buffer = gl.buffer(triangle_vertex_positions)"
   ]
  },
  {
   "cell_type": "code",
   "execution_count": 5,
   "id": "ebb3ed36",
   "metadata": {},
   "outputs": [],
   "source": [
    "fragment_shader_code = '''\n",
    "    #version 330 core\n",
    "\n",
    "    out vec4 color;\n",
    "    uniform vec3 inColor;\n",
    "\n",
    "    void main() {\n",
    "        color = vec4(inColor, 0);\n",
    "    }\n",
    "'''\n",
    "\n",
    "vertex_shader_code = '''\n",
    "    #version 330 core\n",
    "\n",
    "    layout (location = 0) in vec2 position;\n",
    "    uniform float scale;\n",
    "    uniform float distance;\n",
    "    uniform float angle;\n",
    "\n",
    "    void main() {\n",
    "        float angleR = radians(-angle);\n",
    "        vec2 d_vector = distance * vec2(cos(angleR), sin(angleR));\n",
    "        vec2 P = position * scale + d_vector;\n",
    "        gl_Position = vec4(P, 0.0, 1.0);\n",
    "    }\n",
    "'''\n",
    "\n",
    "vertex_shader_code_line = '''\n",
    "    #version 330 core\n",
    "\n",
    "    uniform float distance;\n",
    "    uniform float angle;\n",
    "\n",
    "    void main() {\n",
    "        vec2 position = vec2(0);\n",
    "        if (gl_VertexID > 0) {\n",
    "            float angleR = radians(-angle);\n",
    "            position = distance*vec2(cos(angleR), sin(angleR));\n",
    "        }\n",
    "        gl_Position = vec4(position, 0.0, 1.0);\n",
    "    }\n",
    "'''"
   ]
  },
  {
   "cell_type": "code",
   "execution_count": 6,
   "id": "5fc823d3",
   "metadata": {},
   "outputs": [],
   "source": [
    "program = gl.program(\n",
    "    vertex_shader = vertex_shader_code,\n",
    "    fragment_shader = fragment_shader_code\n",
    ")\n",
    "\n",
    "program_line = gl.program(\n",
    "    vertex_shader = vertex_shader_code_line,\n",
    "    fragment_shader = fragment_shader_code\n",
    ")\n",
    "\n",
    "renderable = gl.vertex_array(program,\n",
    "    [( triangle_position_buffer, \"2f\", \"position\" )])\n",
    "\n",
    "line_renderable = gl.vertex_array(program_line, [])"
   ]
  },
  {
   "cell_type": "code",
   "execution_count": null,
   "id": "f46033a7",
   "metadata": {},
   "outputs": [
    {
     "ename": "",
     "evalue": "",
     "output_type": "error",
     "traceback": [
      "\u001b[1;31mThe Kernel crashed while executing code in the current cell or a previous cell. \n",
      "\u001b[1;31mPlease review the code in the cell(s) to identify a possible cause of the failure. \n",
      "\u001b[1;31mClick <a href='https://aka.ms/vscodeJupyterKernelCrash'>here</a> for more info. \n",
      "\u001b[1;31mView Jupyter <a href='command:jupyter.viewOutput'>log</a> for further details."
     ]
    }
   ],
   "source": [
    "angle = 0\n",
    "\n",
    "while running:\n",
    "    for event in pygame.event.get():\n",
    "        if event.type == pygame.QUIT or (event.type == pygame.KEYDOWN and event.key == 27):\n",
    "            running = False\n",
    "\n",
    "    gl.clear(0.5, 0.5, 0.5)\n",
    "\n",
    "    program['scale'] = 0.1\n",
    "    program['distance'] = 0\n",
    "    program['inColor'] = [1, 1, 0]\n",
    "    program['angle'] = 0\n",
    "\n",
    "    renderable.render(moderngl.TRIANGLES, vertices=6)\n",
    "\n",
    "    program['distance'] = 0.8\n",
    "    program['angle'] = angle\n",
    "    renderable.render(moderngl.TRIANGLES, vertices=6)\n",
    "\n",
    "    program_line['distance'] = 0.8\n",
    "    program_line['angle'] = angle\n",
    "    line_renderable.render(moderngl.LINES, vertices = 2)\n",
    "\n",
    "    pygame.display.flip()\n",
    "    clock.tick(60)\n",
    "    angle = angle + 0.1\n",
    "    if angle > 360:\n",
    "        angle = 0\n",
    "\n",
    "pygame.quit()"
   ]
  }
 ],
 "metadata": {
  "kernelspec": {
   "display_name": "base",
   "language": "python",
   "name": "python3"
  },
  "language_info": {
   "codemirror_mode": {
    "name": "ipython",
    "version": 3
   },
   "file_extension": ".py",
   "mimetype": "text/x-python",
   "name": "python",
   "nbconvert_exporter": "python",
   "pygments_lexer": "ipython3",
   "version": "3.13.5"
  }
 },
 "nbformat": 4,
 "nbformat_minor": 5
}
